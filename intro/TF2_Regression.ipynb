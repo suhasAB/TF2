{
  "nbformat": 4,
  "nbformat_minor": 0,
  "metadata": {
    "colab": {
      "name": "TF2_Regression.ipynb",
      "provenance": [],
      "authorship_tag": "ABX9TyOTc84IJe2CdtUDQEPs/KFM",
      "include_colab_link": true
    },
    "kernelspec": {
      "name": "python3",
      "display_name": "Python 3"
    },
    "language_info": {
      "name": "python"
    }
  },
  "cells": [
    {
      "cell_type": "markdown",
      "metadata": {
        "id": "view-in-github",
        "colab_type": "text"
      },
      "source": [
        "<a href=\"https://colab.research.google.com/github/suhasAB/TF2/blob/master/intro/TF2_Regression.ipynb\" target=\"_parent\"><img src=\"https://colab.research.google.com/assets/colab-badge.svg\" alt=\"Open In Colab\"/></a>"
      ]
    },
    {
      "cell_type": "code",
      "metadata": {
        "id": "Onm1Hc5eoe28"
      },
      "source": [
        "import tensorflow as tf\n",
        "import matplotlib.pyplot as plt\n",
        "import pandas as pd"
      ],
      "execution_count": 1,
      "outputs": []
    },
    {
      "cell_type": "code",
      "metadata": {
        "colab": {
          "base_uri": "https://localhost:8080/"
        },
        "id": "MmuvSioWojpa",
        "outputId": "5189ba55-1487-4c32-e301-4934cb61014a"
      },
      "source": [
        "!wget https://raw.githubusercontent.com/lazyprogrammer/machine_learning_examples/master/tf2.0/moore.csv"
      ],
      "execution_count": 2,
      "outputs": [
        {
          "output_type": "stream",
          "text": [
            "--2021-05-15 11:21:19--  https://raw.githubusercontent.com/lazyprogrammer/machine_learning_examples/master/tf2.0/moore.csv\n",
            "Resolving raw.githubusercontent.com (raw.githubusercontent.com)... 185.199.109.133, 185.199.108.133, 185.199.110.133, ...\n",
            "Connecting to raw.githubusercontent.com (raw.githubusercontent.com)|185.199.109.133|:443... connected.\n",
            "HTTP request sent, awaiting response... 200 OK\n",
            "Length: 2302 (2.2K) [text/plain]\n",
            "Saving to: ‘moore.csv.1’\n",
            "\n",
            "\rmoore.csv.1           0%[                    ]       0  --.-KB/s               \rmoore.csv.1         100%[===================>]   2.25K  --.-KB/s    in 0s      \n",
            "\n",
            "2021-05-15 11:21:19 (34.7 MB/s) - ‘moore.csv.1’ saved [2302/2302]\n",
            "\n"
          ],
          "name": "stdout"
        }
      ]
    },
    {
      "cell_type": "code",
      "metadata": {
        "id": "FlP4meoBoojJ"
      },
      "source": [
        "data=pd.read_csv('moore.csv',header=None).values"
      ],
      "execution_count": 3,
      "outputs": []
    },
    {
      "cell_type": "code",
      "metadata": {
        "colab": {
          "base_uri": "https://localhost:8080/"
        },
        "id": "bye8yaENo56e",
        "outputId": "d9abdcf0-cdcc-4951-d6bd-82a78a12403c"
      },
      "source": [
        "type(data)"
      ],
      "execution_count": 4,
      "outputs": [
        {
          "output_type": "execute_result",
          "data": {
            "text/plain": [
              "numpy.ndarray"
            ]
          },
          "metadata": {
            "tags": []
          },
          "execution_count": 4
        }
      ]
    },
    {
      "cell_type": "code",
      "metadata": {
        "id": "TGxO8kAZrqOS"
      },
      "source": [
        "X=data[:,0].reshape(-1,1)"
      ],
      "execution_count": 5,
      "outputs": []
    },
    {
      "cell_type": "code",
      "metadata": {
        "id": "_aruRwVmr814"
      },
      "source": [
        "Y=data[:,1]"
      ],
      "execution_count": 6,
      "outputs": []
    },
    {
      "cell_type": "code",
      "metadata": {
        "colab": {
          "base_uri": "https://localhost:8080/",
          "height": 293
        },
        "id": "75mjoHuowEwu",
        "outputId": "6346efa4-dd9e-4dbb-a803-9f22d7d5853f"
      },
      "source": [
        "plt.scatter(X,Y)"
      ],
      "execution_count": 7,
      "outputs": [
        {
          "output_type": "execute_result",
          "data": {
            "text/plain": [
              "<matplotlib.collections.PathCollection at 0x7ff415fcf190>"
            ]
          },
          "metadata": {
            "tags": []
          },
          "execution_count": 7
        },
        {
          "output_type": "display_data",
          "data": {
            "image/png": "[encoded data removed]",
            "text/plain": [
              "<Figure size 432x288 with 1 Axes>"
            ]
          },
          "metadata": {
            "tags": [],
            "needs_background": "light"
          }
        }
      ]
    },
    {
      "cell_type": "code",
      "metadata": {
        "colab": {
          "base_uri": "https://localhost:8080/",
          "height": 265
        },
        "id": "D3bu2jR_wJ63",
        "outputId": "98fb2757-05b0-44d3-8432-d5cc8882e43b"
      },
      "source": [
        "import numpy as np\n",
        "\n",
        "Y=np.log(Y)\n",
        "plt.scatter(X,Y);"
      ],
      "execution_count": 8,
      "outputs": [
        {
          "output_type": "display_data",
          "data": {
            "image/png": "[encoded data removed]",
            "text/plain": [
              "<Figure size 432x288 with 1 Axes>"
            ]
          },
          "metadata": {
            "tags": [],
            "needs_background": "light"
          }
        }
      ]
    },
    {
      "cell_type": "code",
      "metadata": {
        "id": "ROYXvWdnwdhR"
      },
      "source": [
        "X=X-X.mean()"
      ],
      "execution_count": 9,
      "outputs": []
    },
    {
      "cell_type": "code",
      "metadata": {
        "colab": {
          "base_uri": "https://localhost:8080/",
          "height": 265
        },
        "id": "Q0rkFDmCwsUa",
        "outputId": "a733fefb-3891-493b-e294-2b35f20424e4"
      },
      "source": [
        "plt.scatter(X,Y);"
      ],
      "execution_count": 11,
      "outputs": [
        {
          "output_type": "display_data",
          "data": {
            "image/png": "[encoded data removed]",
            "text/plain": [
              "<Figure size 432x288 with 1 Axes>"
            ]
          },
          "metadata": {
            "tags": [],
            "needs_background": "light"
          }
        }
      ]
    },
    {
      "cell_type": "code",
      "metadata": {
        "id": "W2df1ggQwvai"
      },
      "source": [
        "model=tf.keras.Sequential([\n",
        "    tf.keras.layers.Input(shape=(1,)),\n",
        "    tf.keras.layers.Dense(1)\n",
        "])"
      ],
      "execution_count": 13,
      "outputs": []
    },
    {
      "cell_type": "code",
      "metadata": {
        "id": "tpVWzuKgxWP3"
      },
      "source": [
        "model.compile(optimizer=tf.keras.optimizers.SGD(0.001,0.9) ,loss='mse')"
      ],
      "execution_count": 14,
      "outputs": []
    },
    {
      "cell_type": "code",
      "metadata": {
        "id": "az6IWjNXx7p_"
      },
      "source": [
        "#learning rate scheduler\n",
        "def schedule(epoch,lr):\n",
        "  if(epoch>=50):\n",
        "    return 0.0001\n",
        "  return 0.001\n",
        "\n",
        "scheduler= tf.keras.callbacks.LearningRateScheduler(schedule)"
      ],
      "execution_count": 15,
      "outputs": []
    },
    {
      "cell_type": "code",
      "metadata": {
        "colab": {
          "base_uri": "https://localhost:8080/"
        },
        "id": "g9t5KB21ydtv",
        "outputId": "3d4bf484-97e4-413f-ae31-528b940f9dcf"
      },
      "source": [
        "r=model.fit(X,Y,epochs=200,callbacks=scheduler)"
      ],
      "execution_count": 16,
      "outputs": [
        {
          "output_type": "stream",
          "text": [
            "Epoch 1/200\n",
            "6/6 [==============================] - 0s 2ms/step - loss: 755.1826\n",
            "Epoch 2/200\n",
            "6/6 [==============================] - 0s 2ms/step - loss: 1052.5320\n",
            "Epoch 3/200\n",
            "6/6 [==============================] - 0s 2ms/step - loss: 811.9914\n",
            "Epoch 4/200\n",
            "6/6 [==============================] - 0s 3ms/step - loss: 452.9727\n",
            "Epoch 5/200\n",
            "6/6 [==============================] - 0s 2ms/step - loss: 354.0914\n",
            "Epoch 6/200\n",
            "6/6 [==============================] - 0s 2ms/step - loss: 154.6395\n",
            "Epoch 7/200\n",
            "6/6 [==============================] - 0s 3ms/step - loss: 181.4523\n",
            "Epoch 8/200\n",
            "6/6 [==============================] - 0s 2ms/step - loss: 82.8791\n",
            "Epoch 9/200\n",
            "6/6 [==============================] - 0s 3ms/step - loss: 61.7281\n",
            "Epoch 10/200\n",
            "6/6 [==============================] - 0s 3ms/step - loss: 74.6149\n",
            "Epoch 11/200\n",
            "6/6 [==============================] - 0s 3ms/step - loss: 65.8995\n",
            "Epoch 12/200\n",
            "6/6 [==============================] - 0s 3ms/step - loss: 23.8946\n",
            "Epoch 13/200\n",
            "6/6 [==============================] - 0s 2ms/step - loss: 18.4347\n",
            "Epoch 14/200\n",
            "6/6 [==============================] - 0s 2ms/step - loss: 8.0977\n",
            "Epoch 15/200\n",
            "6/6 [==============================] - 0s 3ms/step - loss: 6.1942\n",
            "Epoch 16/200\n",
            "6/6 [==============================] - 0s 2ms/step - loss: 5.4941\n",
            "Epoch 17/200\n",
            "6/6 [==============================] - 0s 3ms/step - loss: 3.8692\n",
            "Epoch 18/200\n",
            "6/6 [==============================] - 0s 3ms/step - loss: 3.0753\n",
            "Epoch 19/200\n",
            "6/6 [==============================] - 0s 3ms/step - loss: 2.9802\n",
            "Epoch 20/200\n",
            "6/6 [==============================] - 0s 5ms/step - loss: 1.9961\n",
            "Epoch 21/200\n",
            "6/6 [==============================] - 0s 2ms/step - loss: 1.7057\n",
            "Epoch 22/200\n",
            "6/6 [==============================] - 0s 3ms/step - loss: 1.5539\n",
            "Epoch 23/200\n",
            "6/6 [==============================] - 0s 2ms/step - loss: 1.5781\n",
            "Epoch 24/200\n",
            "6/6 [==============================] - 0s 3ms/step - loss: 1.1882\n",
            "Epoch 25/200\n",
            "6/6 [==============================] - 0s 4ms/step - loss: 1.0399\n",
            "Epoch 26/200\n",
            "6/6 [==============================] - 0s 3ms/step - loss: 1.3935\n",
            "Epoch 27/200\n",
            "6/6 [==============================] - 0s 2ms/step - loss: 1.3557\n",
            "Epoch 28/200\n",
            "6/6 [==============================] - 0s 2ms/step - loss: 1.2202\n",
            "Epoch 29/200\n",
            "6/6 [==============================] - 0s 2ms/step - loss: 1.3387\n",
            "Epoch 30/200\n",
            "6/6 [==============================] - 0s 3ms/step - loss: 1.0831\n",
            "Epoch 31/200\n",
            "6/6 [==============================] - 0s 2ms/step - loss: 1.4257\n",
            "Epoch 32/200\n",
            "6/6 [==============================] - 0s 3ms/step - loss: 1.4254\n",
            "Epoch 33/200\n",
            "6/6 [==============================] - 0s 3ms/step - loss: 1.0089\n",
            "Epoch 34/200\n",
            "6/6 [==============================] - 0s 3ms/step - loss: 1.2335\n",
            "Epoch 35/200\n",
            "6/6 [==============================] - 0s 3ms/step - loss: 0.9403\n",
            "Epoch 36/200\n",
            "6/6 [==============================] - 0s 2ms/step - loss: 1.3311\n",
            "Epoch 37/200\n",
            "6/6 [==============================] - 0s 3ms/step - loss: 1.0292\n",
            "Epoch 38/200\n",
            "6/6 [==============================] - 0s 2ms/step - loss: 0.8901\n",
            "Epoch 39/200\n",
            "6/6 [==============================] - 0s 2ms/step - loss: 0.9359\n",
            "Epoch 40/200\n",
            "6/6 [==============================] - 0s 2ms/step - loss: 0.8281\n",
            "Epoch 41/200\n",
            "6/6 [==============================] - 0s 2ms/step - loss: 0.8811\n",
            "Epoch 42/200\n",
            "6/6 [==============================] - 0s 2ms/step - loss: 0.7693\n",
            "Epoch 43/200\n",
            "6/6 [==============================] - 0s 2ms/step - loss: 1.0288\n",
            "Epoch 44/200\n",
            "6/6 [==============================] - 0s 4ms/step - loss: 1.3087\n",
            "Epoch 45/200\n",
            "6/6 [==============================] - 0s 2ms/step - loss: 0.8653\n",
            "Epoch 46/200\n",
            "6/6 [==============================] - 0s 2ms/step - loss: 0.7208\n",
            "Epoch 47/200\n",
            "6/6 [==============================] - 0s 2ms/step - loss: 0.7930\n",
            "Epoch 48/200\n",
            "6/6 [==============================] - 0s 3ms/step - loss: 1.0033\n",
            "Epoch 49/200\n",
            "6/6 [==============================] - 0s 3ms/step - loss: 0.9001\n",
            "Epoch 50/200\n",
            "6/6 [==============================] - 0s 2ms/step - loss: 0.8942\n",
            "Epoch 51/200\n",
            "6/6 [==============================] - 0s 2ms/step - loss: 0.7772\n",
            "Epoch 52/200\n",
            "6/6 [==============================] - 0s 3ms/step - loss: 0.9343\n",
            "Epoch 53/200\n",
            "6/6 [==============================] - 0s 3ms/step - loss: 0.8961\n",
            "Epoch 54/200\n",
            "6/6 [==============================] - 0s 2ms/step - loss: 0.9474\n",
            "Epoch 55/200\n",
            "6/6 [==============================] - 0s 3ms/step - loss: 0.8165\n",
            "Epoch 56/200\n",
            "6/6 [==============================] - 0s 3ms/step - loss: 0.7931\n",
            "Epoch 57/200\n",
            "6/6 [==============================] - 0s 3ms/step - loss: 1.0436\n",
            "Epoch 58/200\n",
            "6/6 [==============================] - 0s 3ms/step - loss: 0.9623\n",
            "Epoch 59/200\n",
            "6/6 [==============================] - 0s 3ms/step - loss: 0.7888\n",
            "Epoch 60/200\n",
            "6/6 [==============================] - 0s 3ms/step - loss: 0.6863\n",
            "Epoch 61/200\n",
            "6/6 [==============================] - 0s 2ms/step - loss: 0.8708\n",
            "Epoch 62/200\n",
            "6/6 [==============================] - 0s 3ms/step - loss: 0.7326\n",
            "Epoch 63/200\n",
            "6/6 [==============================] - 0s 4ms/step - loss: 1.0617\n",
            "Epoch 64/200\n",
            "6/6 [==============================] - 0s 4ms/step - loss: 0.8225\n",
            "Epoch 65/200\n",
            "6/6 [==============================] - 0s 4ms/step - loss: 0.8260\n",
            "Epoch 66/200\n",
            "6/6 [==============================] - 0s 4ms/step - loss: 0.8255\n",
            "Epoch 67/200\n",
            "6/6 [==============================] - 0s 3ms/step - loss: 0.8075\n",
            "Epoch 68/200\n",
            "6/6 [==============================] - 0s 3ms/step - loss: 0.8721\n",
            "Epoch 69/200\n",
            "6/6 [==============================] - 0s 3ms/step - loss: 0.7753\n",
            "Epoch 70/200\n",
            "6/6 [==============================] - 0s 2ms/step - loss: 0.9950\n",
            "Epoch 71/200\n",
            "6/6 [==============================] - 0s 2ms/step - loss: 0.7578\n",
            "Epoch 72/200\n",
            "6/6 [==============================] - 0s 4ms/step - loss: 1.2256\n",
            "Epoch 73/200\n",
            "6/6 [==============================] - 0s 3ms/step - loss: 0.9437\n",
            "Epoch 74/200\n",
            "6/6 [==============================] - 0s 4ms/step - loss: 0.9660\n",
            "Epoch 75/200\n",
            "6/6 [==============================] - 0s 2ms/step - loss: 0.7923\n",
            "Epoch 76/200\n",
            "6/6 [==============================] - 0s 2ms/step - loss: 0.8107\n",
            "Epoch 77/200\n",
            "6/6 [==============================] - 0s 3ms/step - loss: 0.8039\n",
            "Epoch 78/200\n",
            "6/6 [==============================] - 0s 3ms/step - loss: 0.7658\n",
            "Epoch 79/200\n",
            "6/6 [==============================] - 0s 3ms/step - loss: 0.8908\n",
            "Epoch 80/200\n",
            "6/6 [==============================] - 0s 3ms/step - loss: 0.8519\n",
            "Epoch 81/200\n",
            "6/6 [==============================] - 0s 3ms/step - loss: 0.7863\n",
            "Epoch 82/200\n",
            "6/6 [==============================] - 0s 3ms/step - loss: 0.8309\n",
            "Epoch 83/200\n",
            "6/6 [==============================] - 0s 2ms/step - loss: 0.8700\n",
            "Epoch 84/200\n",
            "6/6 [==============================] - 0s 2ms/step - loss: 0.9928\n",
            "Epoch 85/200\n",
            "6/6 [==============================] - 0s 3ms/step - loss: 0.7186\n",
            "Epoch 86/200\n",
            "6/6 [==============================] - 0s 3ms/step - loss: 0.9194\n",
            "Epoch 87/200\n",
            "6/6 [==============================] - 0s 3ms/step - loss: 0.8704\n",
            "Epoch 88/200\n",
            "6/6 [==============================] - 0s 3ms/step - loss: 0.7454\n",
            "Epoch 89/200\n",
            "6/6 [==============================] - 0s 2ms/step - loss: 1.1127\n",
            "Epoch 90/200\n",
            "6/6 [==============================] - 0s 2ms/step - loss: 0.8601\n",
            "Epoch 91/200\n",
            "6/6 [==============================] - 0s 4ms/step - loss: 0.9585\n",
            "Epoch 92/200\n",
            "6/6 [==============================] - 0s 2ms/step - loss: 0.7647\n",
            "Epoch 93/200\n",
            "6/6 [==============================] - 0s 3ms/step - loss: 0.8905\n",
            "Epoch 94/200\n",
            "6/6 [==============================] - 0s 2ms/step - loss: 0.9373\n",
            "Epoch 95/200\n",
            "6/6 [==============================] - 0s 2ms/step - loss: 0.8231\n",
            "Epoch 96/200\n",
            "6/6 [==============================] - 0s 3ms/step - loss: 0.7102\n",
            "Epoch 97/200\n",
            "6/6 [==============================] - 0s 2ms/step - loss: 0.9947\n",
            "Epoch 98/200\n",
            "6/6 [==============================] - 0s 3ms/step - loss: 0.8832\n",
            "Epoch 99/200\n",
            "6/6 [==============================] - 0s 4ms/step - loss: 0.8430\n",
            "Epoch 100/200\n",
            "6/6 [==============================] - 0s 2ms/step - loss: 0.9980\n",
            "Epoch 101/200\n",
            "6/6 [==============================] - 0s 2ms/step - loss: 0.7699\n",
            "Epoch 102/200\n",
            "6/6 [==============================] - 0s 2ms/step - loss: 0.8382\n",
            "Epoch 103/200\n",
            "6/6 [==============================] - 0s 2ms/step - loss: 0.8012\n",
            "Epoch 104/200\n",
            "6/6 [==============================] - 0s 3ms/step - loss: 0.8559\n",
            "Epoch 105/200\n",
            "6/6 [==============================] - 0s 2ms/step - loss: 0.8203\n",
            "Epoch 106/200\n",
            "6/6 [==============================] - 0s 2ms/step - loss: 0.8843\n",
            "Epoch 107/200\n",
            "6/6 [==============================] - 0s 3ms/step - loss: 0.8745\n",
            "Epoch 108/200\n",
            "6/6 [==============================] - 0s 3ms/step - loss: 0.8116\n",
            "Epoch 109/200\n",
            "6/6 [==============================] - 0s 3ms/step - loss: 0.7429\n",
            "Epoch 110/200\n",
            "6/6 [==============================] - 0s 2ms/step - loss: 0.9055\n",
            "Epoch 111/200\n",
            "6/6 [==============================] - 0s 2ms/step - loss: 0.8698\n",
            "Epoch 112/200\n",
            "6/6 [==============================] - 0s 3ms/step - loss: 1.0259\n",
            "Epoch 113/200\n",
            "6/6 [==============================] - 0s 3ms/step - loss: 0.8679\n",
            "Epoch 114/200\n",
            "6/6 [==============================] - 0s 3ms/step - loss: 0.7895\n",
            "Epoch 115/200\n",
            "6/6 [==============================] - 0s 2ms/step - loss: 0.8643\n",
            "Epoch 116/200\n",
            "6/6 [==============================] - 0s 2ms/step - loss: 0.8884\n",
            "Epoch 117/200\n",
            "6/6 [==============================] - 0s 4ms/step - loss: 0.9144\n",
            "Epoch 118/200\n",
            "6/6 [==============================] - 0s 2ms/step - loss: 0.8517\n",
            "Epoch 119/200\n",
            "6/6 [==============================] - 0s 5ms/step - loss: 0.8665\n",
            "Epoch 120/200\n",
            "6/6 [==============================] - 0s 3ms/step - loss: 0.7668\n",
            "Epoch 121/200\n",
            "6/6 [==============================] - 0s 4ms/step - loss: 0.9682\n",
            "Epoch 122/200\n",
            "6/6 [==============================] - 0s 3ms/step - loss: 0.8824\n",
            "Epoch 123/200\n",
            "6/6 [==============================] - 0s 3ms/step - loss: 0.8336\n",
            "Epoch 124/200\n",
            "6/6 [==============================] - 0s 3ms/step - loss: 0.7237\n",
            "Epoch 125/200\n",
            "6/6 [==============================] - 0s 2ms/step - loss: 1.0930\n",
            "Epoch 126/200\n",
            "6/6 [==============================] - 0s 2ms/step - loss: 1.0643\n",
            "Epoch 127/200\n",
            "6/6 [==============================] - 0s 2ms/step - loss: 0.8152\n",
            "Epoch 128/200\n",
            "6/6 [==============================] - 0s 2ms/step - loss: 0.7732\n",
            "Epoch 129/200\n",
            "6/6 [==============================] - 0s 3ms/step - loss: 1.0041\n",
            "Epoch 130/200\n",
            "6/6 [==============================] - 0s 3ms/step - loss: 0.8983\n",
            "Epoch 131/200\n",
            "6/6 [==============================] - 0s 2ms/step - loss: 1.1098\n",
            "Epoch 132/200\n",
            "6/6 [==============================] - 0s 2ms/step - loss: 0.8812\n",
            "Epoch 133/200\n",
            "6/6 [==============================] - 0s 3ms/step - loss: 0.7118\n",
            "Epoch 134/200\n",
            "6/6 [==============================] - 0s 2ms/step - loss: 0.7648\n",
            "Epoch 135/200\n",
            "6/6 [==============================] - 0s 3ms/step - loss: 0.8860\n",
            "Epoch 136/200\n",
            "6/6 [==============================] - 0s 2ms/step - loss: 0.8514\n",
            "Epoch 137/200\n",
            "6/6 [==============================] - 0s 2ms/step - loss: 0.9348\n",
            "Epoch 138/200\n",
            "6/6 [==============================] - 0s 2ms/step - loss: 0.7799\n",
            "Epoch 139/200\n",
            "6/6 [==============================] - 0s 2ms/step - loss: 1.1012\n",
            "Epoch 140/200\n",
            "6/6 [==============================] - 0s 2ms/step - loss: 0.9149\n",
            "Epoch 141/200\n",
            "6/6 [==============================] - 0s 3ms/step - loss: 1.0128\n",
            "Epoch 142/200\n",
            "6/6 [==============================] - 0s 2ms/step - loss: 1.0223\n",
            "Epoch 143/200\n",
            "6/6 [==============================] - 0s 4ms/step - loss: 0.8216\n",
            "Epoch 144/200\n",
            "6/6 [==============================] - 0s 3ms/step - loss: 0.9290\n",
            "Epoch 145/200\n",
            "6/6 [==============================] - 0s 2ms/step - loss: 0.9397\n",
            "Epoch 146/200\n",
            "6/6 [==============================] - 0s 3ms/step - loss: 1.0976\n",
            "Epoch 147/200\n",
            "6/6 [==============================] - 0s 3ms/step - loss: 0.8892\n",
            "Epoch 148/200\n",
            "6/6 [==============================] - 0s 3ms/step - loss: 0.8977\n",
            "Epoch 149/200\n",
            "6/6 [==============================] - 0s 2ms/step - loss: 1.1358\n",
            "Epoch 150/200\n",
            "6/6 [==============================] - 0s 2ms/step - loss: 0.8441\n",
            "Epoch 151/200\n",
            "6/6 [==============================] - 0s 2ms/step - loss: 0.7831\n",
            "Epoch 152/200\n",
            "6/6 [==============================] - 0s 2ms/step - loss: 0.8668\n",
            "Epoch 153/200\n",
            "6/6 [==============================] - 0s 3ms/step - loss: 0.8899\n",
            "Epoch 154/200\n",
            "6/6 [==============================] - 0s 2ms/step - loss: 0.8465\n",
            "Epoch 155/200\n",
            "6/6 [==============================] - 0s 3ms/step - loss: 1.0592\n",
            "Epoch 156/200\n",
            "6/6 [==============================] - 0s 2ms/step - loss: 0.7344\n",
            "Epoch 157/200\n",
            "6/6 [==============================] - 0s 2ms/step - loss: 0.7614\n",
            "Epoch 158/200\n",
            "6/6 [==============================] - 0s 2ms/step - loss: 0.9059\n",
            "Epoch 159/200\n",
            "6/6 [==============================] - 0s 2ms/step - loss: 1.0100\n",
            "Epoch 160/200\n",
            "6/6 [==============================] - 0s 2ms/step - loss: 0.8861\n",
            "Epoch 161/200\n",
            "6/6 [==============================] - 0s 2ms/step - loss: 0.8202\n",
            "Epoch 162/200\n",
            "6/6 [==============================] - 0s 2ms/step - loss: 1.0228\n",
            "Epoch 163/200\n",
            "6/6 [==============================] - 0s 2ms/step - loss: 0.8328\n",
            "Epoch 164/200\n",
            "6/6 [==============================] - 0s 3ms/step - loss: 0.7311\n",
            "Epoch 165/200\n",
            "6/6 [==============================] - 0s 2ms/step - loss: 1.0611\n",
            "Epoch 166/200\n",
            "6/6 [==============================] - 0s 2ms/step - loss: 0.8851\n",
            "Epoch 167/200\n",
            "6/6 [==============================] - 0s 2ms/step - loss: 0.8597\n",
            "Epoch 168/200\n",
            "6/6 [==============================] - 0s 3ms/step - loss: 0.7729\n",
            "Epoch 169/200\n",
            "6/6 [==============================] - 0s 2ms/step - loss: 0.9632\n",
            "Epoch 170/200\n",
            "6/6 [==============================] - 0s 2ms/step - loss: 0.7585\n",
            "Epoch 171/200\n",
            "6/6 [==============================] - 0s 2ms/step - loss: 0.8453\n",
            "Epoch 172/200\n",
            "6/6 [==============================] - 0s 3ms/step - loss: 1.1178\n",
            "Epoch 173/200\n",
            "6/6 [==============================] - 0s 2ms/step - loss: 0.8702\n",
            "Epoch 174/200\n",
            "6/6 [==============================] - 0s 3ms/step - loss: 0.9109\n",
            "Epoch 175/200\n",
            "6/6 [==============================] - 0s 2ms/step - loss: 0.8676\n",
            "Epoch 176/200\n",
            "6/6 [==============================] - 0s 3ms/step - loss: 0.9820\n",
            "Epoch 177/200\n",
            "6/6 [==============================] - 0s 2ms/step - loss: 0.8977\n",
            "Epoch 178/200\n",
            "6/6 [==============================] - 0s 2ms/step - loss: 0.8251\n",
            "Epoch 179/200\n",
            "6/6 [==============================] - 0s 2ms/step - loss: 0.8571\n",
            "Epoch 180/200\n",
            "6/6 [==============================] - 0s 2ms/step - loss: 0.7887\n",
            "Epoch 181/200\n",
            "6/6 [==============================] - 0s 3ms/step - loss: 0.7433\n",
            "Epoch 182/200\n",
            "6/6 [==============================] - 0s 4ms/step - loss: 0.6607\n",
            "Epoch 183/200\n",
            "6/6 [==============================] - 0s 2ms/step - loss: 0.9916\n",
            "Epoch 184/200\n",
            "6/6 [==============================] - 0s 2ms/step - loss: 0.7123\n",
            "Epoch 185/200\n",
            "6/6 [==============================] - 0s 2ms/step - loss: 0.8963\n",
            "Epoch 186/200\n",
            "6/6 [==============================] - 0s 3ms/step - loss: 0.9971\n",
            "Epoch 187/200\n",
            "6/6 [==============================] - 0s 3ms/step - loss: 0.7826\n",
            "Epoch 188/200\n",
            "6/6 [==============================] - 0s 3ms/step - loss: 0.9608\n",
            "Epoch 189/200\n",
            "6/6 [==============================] - 0s 2ms/step - loss: 0.9220\n",
            "Epoch 190/200\n",
            "6/6 [==============================] - 0s 3ms/step - loss: 0.8377\n",
            "Epoch 191/200\n",
            "6/6 [==============================] - 0s 4ms/step - loss: 1.0365\n",
            "Epoch 192/200\n",
            "6/6 [==============================] - 0s 2ms/step - loss: 0.8429\n",
            "Epoch 193/200\n",
            "6/6 [==============================] - 0s 4ms/step - loss: 0.7863\n",
            "Epoch 194/200\n",
            "6/6 [==============================] - 0s 3ms/step - loss: 1.0460\n",
            "Epoch 195/200\n",
            "6/6 [==============================] - 0s 3ms/step - loss: 0.9709\n",
            "Epoch 196/200\n",
            "6/6 [==============================] - 0s 3ms/step - loss: 0.8765\n",
            "Epoch 197/200\n",
            "6/6 [==============================] - 0s 2ms/step - loss: 0.7250\n",
            "Epoch 198/200\n",
            "6/6 [==============================] - 0s 3ms/step - loss: 0.8920\n",
            "Epoch 199/200\n",
            "6/6 [==============================] - 0s 3ms/step - loss: 0.8301\n",
            "Epoch 200/200\n",
            "6/6 [==============================] - 0s 3ms/step - loss: 1.0105\n"
          ],
          "name": "stdout"
        }
      ]
    },
    {
      "cell_type": "code",
      "metadata": {
        "colab": {
          "base_uri": "https://localhost:8080/",
          "height": 282
        },
        "id": "nD0hnISUylLD",
        "outputId": "44e1f1f6-a41d-4891-f944-a8cb87d569be"
      },
      "source": [
        "plt.plot(r.history['loss'],label='loss')"
      ],
      "execution_count": 17,
      "outputs": [
        {
          "output_type": "execute_result",
          "data": {
            "text/plain": [
              "[<matplotlib.lines.Line2D at 0x7ff40e5d6650>]"
            ]
          },
          "metadata": {
            "tags": []
          },
          "execution_count": 17
        },
        {
          "output_type": "display_data",
          "data": {
            "image/png": "[encoded data removed]",
            "text/plain": [
              "<Figure size 432x288 with 1 Axes>"
            ]
          },
          "metadata": {
            "tags": [],
            "needs_background": "light"
          }
        }
      ]
    },
    {
      "cell_type": "code",
      "metadata": {
        "colab": {
          "base_uri": "https://localhost:8080/"
        },
        "id": "TU6rfpu_y60t",
        "outputId": "ac42b95b-3c82-45bb-b484-db05d54efa0d"
      },
      "source": [
        "print(model.layers)"
      ],
      "execution_count": 18,
      "outputs": [
        {
          "output_type": "stream",
          "text": [
            "[<tensorflow.python.keras.layers.core.Dense object at 0x7ff414b1ae50>]\n"
          ],
          "name": "stdout"
        }
      ]
    },
    {
      "cell_type": "code",
      "metadata": {
        "colab": {
          "base_uri": "https://localhost:8080/"
        },
        "id": "nIsooRZlzDkO",
        "outputId": "41ac3ce0-7644-48dc-b423-1bfbf25bfde6"
      },
      "source": [
        "print(model.layers[0].get_weights())"
      ],
      "execution_count": 20,
      "outputs": [
        {
          "output_type": "stream",
          "text": [
            "[array([[0.33112195]], dtype=float32), array([17.765106], dtype=float32)]\n"
          ],
          "name": "stdout"
        }
      ]
    },
    {
      "cell_type": "code",
      "metadata": {
        "colab": {
          "base_uri": "https://localhost:8080/"
        },
        "id": "P7yTcg8nzTkM",
        "outputId": "05e7b37b-8e89-4037-b137-ea4c2e1edab2"
      },
      "source": [
        "print(\"Weight(from 2D array:)\",model.layers[0].get_weights()[0][0,0])"
      ],
      "execution_count": 23,
      "outputs": [
        {
          "output_type": "stream",
          "text": [
            "Weight(from 2D array:) 0.33112195\n"
          ],
          "name": "stdout"
        }
      ]
    },
    {
      "cell_type": "code",
      "metadata": {
        "colab": {
          "base_uri": "https://localhost:8080/"
        },
        "id": "w6He5so-zjUF",
        "outputId": "813b9027-3399-4633-9662-4279c26fa2af"
      },
      "source": [
        "print(\"Bias from 1D array:\", model.layers[0].get_weights()[1])"
      ],
      "execution_count": 40,
      "outputs": [
        {
          "output_type": "stream",
          "text": [
            "Bias from 1D array: [17.765106]\n"
          ],
          "name": "stdout"
        }
      ]
    },
    {
      "cell_type": "code",
      "metadata": {
        "id": "c5fF0U9W0DPg"
      },
      "source": [
        "#slope of line is:\n",
        "a=model.layers[0].get_weights()[0][0,0]"
      ],
      "execution_count": 42,
      "outputs": []
    },
    {
      "cell_type": "code",
      "metadata": {
        "colab": {
          "base_uri": "https://localhost:8080/"
        },
        "id": "1EizLD721ELQ",
        "outputId": "444bfa8e-e4e7-442b-b7b6-598221c5fd64"
      },
      "source": [
        "print(\"time to double:\",np.log(2)/a)"
      ],
      "execution_count": 43,
      "outputs": [
        {
          "output_type": "stream",
          "text": [
            "time to double: 2.0933289917852753\n"
          ],
          "name": "stdout"
        }
      ]
    },
    {
      "cell_type": "markdown",
      "metadata": {
        "id": "4EwDTGPV14Yu"
      },
      "source": [
        "Hence Moore's law is prooved"
      ]
    }
  ]
}